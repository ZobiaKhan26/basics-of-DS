{
  "nbformat": 4,
  "nbformat_minor": 0,
  "metadata": {
    "colab": {
      "name": "Crash MatPlotLib.ipynb",
      "private_outputs": true,
      "provenance": [],
      "collapsed_sections": [],
      "authorship_tag": "ABX9TyNAuDVpNPT4E4oFth6c6xx5",
      "include_colab_link": true
    },
    "kernelspec": {
      "name": "python3",
      "display_name": "Python 3"
    },
    "language_info": {
      "name": "python"
    }
  },
  "cells": [
    {
      "cell_type": "markdown",
      "metadata": {
        "id": "view-in-github",
        "colab_type": "text"
      },
      "source": [
        "<a href=\"https://colab.research.google.com/github/ZobiaKhan26/basics-of-DS/blob/main/Crash_MatPlotLib.ipynb\" target=\"_parent\"><img src=\"https://colab.research.google.com/assets/colab-badge.svg\" alt=\"Open In Colab\"/></a>"
      ]
    },
    {
      "cell_type": "markdown",
      "metadata": {
        "id": "s6oR9xyRnGWP"
      },
      "source": [
        "### **XKCD STYLE IN MATPLOTLIB**"
      ]
    },
    {
      "cell_type": "code",
      "metadata": {
        "id": "hRtbGDnpkN2C"
      },
      "source": [
        "from scipy.stats import norm\n",
        "import matplotlib.pyplot as plt\n",
        "import numpy as np\n",
        "\n",
        "x = np.arange(-3, 3, 0.01)\n",
        "\n",
        "plt.plot(x, norm.pdf(x))\n",
        "plt.show()"
      ],
      "execution_count": null,
      "outputs": []
    },
    {
      "cell_type": "markdown",
      "metadata": {
        "id": "nVr-uUJoqc7x"
      },
      "source": [
        "### **Mutiple Plots on One Graph**"
      ]
    },
    {
      "cell_type": "code",
      "metadata": {
        "id": "H2r0trSlqktP"
      },
      "source": [
        "plt.plot(x, norm.pdf(x))\n",
        "plt.plot(x, norm.pdf(x, 1.0, 0.5))\n",
        "plt.show()"
      ],
      "execution_count": null,
      "outputs": []
    },
    {
      "cell_type": "markdown",
      "metadata": {
        "id": "B0lY_LhIqyAN"
      },
      "source": [
        "### **Save it to a file**"
      ]
    },
    {
      "cell_type": "code",
      "metadata": {
        "id": "is0PEk3yq1DX"
      },
      "source": [
        "plt.plot(x, norm.pdf(x))\n",
        "plt.plot(x, norm.pdf(x, 1.0, 0.5))\n",
        "plt.savefig('C:\\\\Users\\\\Zobia\\\\MyPlot.png', format='png')"
      ],
      "execution_count": null,
      "outputs": []
    },
    {
      "cell_type": "code",
      "metadata": {
        "id": "xlxE0ygRIoFc"
      },
      "source": [
        "from scipy.stats import norm   # normal distribution\n",
        "import matplotlib.pyplot as plt\n",
        "import numpy as np\n",
        "\n",
        "plt.xkcd()\n",
        "\n",
        "fig = plt.figure()\n",
        "ax = fig.add_subplot(1, 1, 1)\n",
        "ax.spines['right'].set_color('none')\n",
        "ax.spines['top'].set_color('none')\n",
        "plt.xticks([])\n",
        "plt.yticks([])\n",
        "ax.set_ylim([-30, 10])\n",
        "\n",
        "data = np.ones(100)\n",
        "data[70:] -= np.arange(30)\n",
        "\n",
        "plt.annotate(\n",
        "    'THE DAY I REALIZED\\nI COULD COOK BACON\\nWHENEVER I WANTED',\n",
        "    xy=(70, 1), arrowprops=dict(arrowstyle='->'), xytext=(15, -10))\n",
        "\n",
        "plt.plot(data)\n",
        "\n",
        "plt.xlabel('time')\n",
        "plt.ylabel('my overall health')"
      ],
      "execution_count": null,
      "outputs": []
    },
    {
      "cell_type": "code",
      "metadata": {
        "id": "Tc23AWc0omFZ"
      },
      "source": [
        "# Remove XKCD mode:\n",
        "plt.rcdefaults()\n",
        "\n",
        "values = [12, 55, 4, 32, 14]\n",
        "colors = ['r', 'g', 'b', 'c', 'm']\n",
        "explode = [0, 0, 0.2, 0, 0]\n",
        "labels = ['India', 'United States', 'Russia', 'China', 'Europe']\n",
        "plt.pie(values, colors= colors, labels=labels, explode = explode)\n",
        "plt.title('Student Locations')\n",
        "plt.show()"
      ],
      "execution_count": null,
      "outputs": []
    },
    {
      "cell_type": "code",
      "metadata": {
        "id": "y13DRcPfosYD"
      },
      "source": [
        "from pylab import randn\n",
        "\n",
        "X = randn(500)\n",
        "Y = randn(500)\n",
        "plt.scatter(X,Y)\n",
        "plt.show()"
      ],
      "execution_count": null,
      "outputs": []
    },
    {
      "cell_type": "code",
      "metadata": {
        "id": "4q-03aREowBi"
      },
      "source": [
        "uniformSkewed = np.random.rand(100) * 100 - 40\n",
        "high_outliers = np.random.rand(10) * 50 + 100\n",
        "low_outliers = np.random.rand(10) * -50 - 100\n",
        "data = np.concatenate((uniformSkewed, high_outliers, low_outliers))\n",
        "plt.boxplot(data)\n",
        "plt.show()"
      ],
      "execution_count": null,
      "outputs": []
    }
  ]
}