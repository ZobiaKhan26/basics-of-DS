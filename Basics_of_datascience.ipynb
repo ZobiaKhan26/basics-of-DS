{
  "nbformat": 4,
  "nbformat_minor": 0,
  "metadata": {
    "colab": {
      "name": "Basics of datascience.ipynb",
      "provenance": [],
      "collapsed_sections": [],
      "authorship_tag": "ABX9TyOh691j45DRMCEr5oMzXNPK",
      "include_colab_link": true
    },
    "kernelspec": {
      "name": "python3",
      "display_name": "Python 3"
    },
    "accelerator": "GPU"
  },
  "cells": [
    {
      "cell_type": "markdown",
      "metadata": {
        "id": "view-in-github",
        "colab_type": "text"
      },
      "source": [
        "<a href=\"https://colab.research.google.com/github/ZobiaKhan26/basics-of-DS/blob/main/Basics_of_datascience.ipynb\" target=\"_parent\"><img src=\"https://colab.research.google.com/assets/colab-badge.svg\" alt=\"Open In Colab\"/></a>"
      ]
    },
    {
      "cell_type": "markdown",
      "metadata": {
        "id": "QPkY8WJ8saKC"
      },
      "source": [
        "# **MEAN, MEDIAN, MODE**"
      ]
    },
    {
      "cell_type": "code",
      "metadata": {
        "id": "tiOyPqx0l0a8"
      },
      "source": [
        "import numpy as np"
      ],
      "execution_count": null,
      "outputs": []
    },
    {
      "cell_type": "code",
      "metadata": {
        "id": "dFikWr0vl6IK"
      },
      "source": [
        "import matplotlib.pyplot as plt"
      ],
      "execution_count": null,
      "outputs": []
    },
    {
      "cell_type": "code",
      "metadata": {
        "id": "iDimoaUVl-Ct"
      },
      "source": [
        "income = np.random.normal(100.0, 20.0, 10000)"
      ],
      "execution_count": null,
      "outputs": []
    },
    {
      "cell_type": "code",
      "metadata": {
        "colab": {
          "base_uri": "https://localhost:8080/",
          "height": 264
        },
        "id": "ozF6nZGmmJ-g",
        "outputId": "11e3ee75-0ad2-4319-d407-cee9f3c34caa"
      },
      "source": [
        "plt.hist(income, 50)\n",
        "plt.show()"
      ],
      "execution_count": null,
      "outputs": [
        {
          "output_type": "display_data",
          "data": {
            "image/png": "[encoded data removed]",
            "text/plain": [
              "<Figure size 432x288 with 1 Axes>"
            ]
          },
          "metadata": {
            "tags": [],
            "needs_background": "light"
          }
        }
      ]
    },
    {
      "cell_type": "code",
      "metadata": {
        "colab": {
          "base_uri": "https://localhost:8080/"
        },
        "id": "ZPFrcL16mdKU",
        "outputId": "41b28e63-22a1-482c-f572-24801c12c9b4"
      },
      "source": [
        "np.median(income)"
      ],
      "execution_count": null,
      "outputs": [
        {
          "output_type": "execute_result",
          "data": {
            "text/plain": [
              "99.61764388012301"
            ]
          },
          "metadata": {
            "tags": []
          },
          "execution_count": 6
        }
      ]
    },
    {
      "cell_type": "code",
      "metadata": {
        "colab": {
          "base_uri": "https://localhost:8080/"
        },
        "id": "vJ2nvU4Xmyxv",
        "outputId": "2c29865d-04cc-455c-e66c-2f8e38262c94"
      },
      "source": [
        "np.mean(income)"
      ],
      "execution_count": null,
      "outputs": [
        {
          "output_type": "execute_result",
          "data": {
            "text/plain": [
              "99.8740205591531"
            ]
          },
          "metadata": {
            "tags": []
          },
          "execution_count": 7
        }
      ]
    },
    {
      "cell_type": "code",
      "metadata": {
        "colab": {
          "base_uri": "https://localhost:8080/"
        },
        "id": "Oz3jhhtPm5dA",
        "outputId": "5bb773bb-5ed3-4968-96d2-7813c2141cf2"
      },
      "source": [
        "ages = np.random.randint(18, high=77,size=300)\n",
        "ages"
      ],
      "execution_count": null,
      "outputs": [
        {
          "output_type": "execute_result",
          "data": {
            "text/plain": [
              "array([21, 56, 22, 61, 55, 22, 20, 61, 60, 43, 39, 54, 26, 22, 27, 45, 19,\n",
              "       72, 50, 71, 18, 72, 18, 21, 57, 40, 52, 56, 25, 24, 66, 75, 19, 55,\n",
              "       37, 23, 25, 39, 27, 57, 53, 55, 27, 25, 33, 45, 30, 53, 73, 24, 33,\n",
              "       51, 30, 64, 48, 66, 71, 51, 38, 62, 57, 60, 53, 39, 32, 22, 53, 29,\n",
              "       33, 50, 69, 22, 29, 50, 30, 20, 37, 49, 35, 59, 32, 43, 47, 27, 32,\n",
              "       51, 25, 25, 64, 49, 74, 66, 52, 21, 74, 39, 48, 29, 45, 23, 41, 46,\n",
              "       71, 54, 36, 69, 75, 58, 74, 32, 51, 69, 73, 59, 61, 64, 58, 32, 67,\n",
              "       33, 43, 28, 61, 68, 45, 50, 19, 63, 49, 28, 24, 24, 73, 64, 33, 22,\n",
              "       42, 45, 63, 18, 28, 33, 56, 29, 41, 64, 51, 67, 64, 42, 47, 60, 66,\n",
              "       54, 64, 52, 20, 24, 28, 35, 28, 64, 67, 62, 39, 65, 64, 30, 57, 52,\n",
              "       73, 30, 67, 66, 59, 40, 65, 70, 52, 30, 76, 70, 25, 41, 51, 25, 43,\n",
              "       68, 70, 62, 33, 42, 27, 58, 74, 31, 31, 21, 58, 69, 52, 54, 43, 63,\n",
              "       23, 65, 46, 65, 68, 20, 36, 26, 23, 45, 42, 57, 50, 29, 66, 46, 50,\n",
              "       38, 24, 38, 76, 66, 65, 54, 58, 31, 52, 54, 31, 66, 35, 39, 25, 32,\n",
              "       50, 56, 76, 25, 48, 62, 39, 19, 57, 50, 62, 68, 74, 56, 53, 27, 23,\n",
              "       54, 27, 50, 55, 58, 72, 25, 60, 68, 49, 63, 29, 31, 67, 30, 59, 48,\n",
              "       41, 35, 25, 22, 62, 18, 70, 52, 36, 20, 58, 45, 21, 45, 24, 56, 32,\n",
              "       41, 64, 27, 42, 74, 42, 56, 33, 43, 71, 48])"
            ]
          },
          "metadata": {
            "tags": []
          },
          "execution_count": 10
        }
      ]
    },
    {
      "cell_type": "code",
      "metadata": {
        "id": "2n-RGpmqnGi7"
      },
      "source": [
        "from scipy import stats"
      ],
      "execution_count": null,
      "outputs": []
    },
    {
      "cell_type": "code",
      "metadata": {
        "colab": {
          "base_uri": "https://localhost:8080/"
        },
        "id": "UWSMX0UYnQsi",
        "outputId": "9cf2da4d-a73a-4f92-f83c-5b9a85c0d688"
      },
      "source": [
        "stats.mode(ages)"
      ],
      "execution_count": null,
      "outputs": [
        {
          "output_type": "execute_result",
          "data": {
            "text/plain": [
              "ModeResult(mode=array([25]), count=array([11]))"
            ]
          },
          "metadata": {
            "tags": []
          },
          "execution_count": 13
        }
      ]
    },
    {
      "cell_type": "markdown",
      "metadata": {
        "id": "llyK_-1mskg6"
      },
      "source": [
        "# **Standard Deviation and Variance**"
      ]
    },
    {
      "cell_type": "code",
      "metadata": {
        "colab": {
          "base_uri": "https://localhost:8080/",
          "height": 264
        },
        "id": "96G5DeQNstP-",
        "outputId": "0c176c77-5dfe-4f34-f2a2-33463b146430"
      },
      "source": [
        "import matplotlib.pyplot as plt\n",
        "import numpy as np\n",
        "income = np.random.normal(100.0, 20.0, 10000)\n",
        "plt.hist(income, 50)\n",
        "plt.show()"
      ],
      "execution_count": null,
      "outputs": [
        {
          "output_type": "display_data",
          "data": {
            "image/png": "[encoded data removed]",
            "text/plain": [
              "<Figure size 432x288 with 1 Axes>"
            ]
          },
          "metadata": {
            "tags": [],
            "needs_background": "light"
          }
        }
      ]
    },
    {
      "cell_type": "code",
      "metadata": {
        "colab": {
          "base_uri": "https://localhost:8080/"
        },
        "id": "qgnYFdi6twPT",
        "outputId": "1d7702a4-de5c-4fea-d26e-4164770f58fa"
      },
      "source": [
        "income.std()"
      ],
      "execution_count": null,
      "outputs": [
        {
          "output_type": "execute_result",
          "data": {
            "text/plain": [
              "4.9615250511684685"
            ]
          },
          "metadata": {
            "tags": []
          },
          "execution_count": 16
        }
      ]
    },
    {
      "cell_type": "code",
      "metadata": {
        "colab": {
          "base_uri": "https://localhost:8080/"
        },
        "id": "JzBRyoAIt_l1",
        "outputId": "19809abf-21f8-4bb0-9ec8-1148ce90004d"
      },
      "source": [
        "income.var()"
      ],
      "execution_count": null,
      "outputs": [
        {
          "output_type": "execute_result",
          "data": {
            "text/plain": [
              "24.616730833372277"
            ]
          },
          "metadata": {
            "tags": []
          },
          "execution_count": 17
        }
      ]
    },
    {
      "cell_type": "markdown",
      "metadata": {
        "id": "6YA9s-mo0xEK"
      },
      "source": [
        "### **DATA DISTRIBUTIONS**\n"
      ]
    },
    {
      "cell_type": "code",
      "metadata": {
        "id": "xTn0Gx2buFnW",
        "colab": {
          "base_uri": "https://localhost:8080/",
          "height": 264
        },
        "outputId": "70041dcf-5e0e-4118-8cc2-0cb62de49f20"
      },
      "source": [
        "import numpy as np\n",
        "import matplotlib.pyplot as plt\n",
        "\n",
        "values = np.random.uniform(-10.0,10.0,10000)\n",
        "plt.hist(values, 50)\n",
        "plt.show()"
      ],
      "execution_count": null,
      "outputs": [
        {
          "output_type": "display_data",
          "data": {
            "image/png": "[encoded data removed]",
            "text/plain": [
              "<Figure size 432x288 with 1 Axes>"
            ]
          },
          "metadata": {
            "tags": [],
            "needs_background": "light"
          }
        }
      ]
    },
    {
      "cell_type": "markdown",
      "metadata": {
        "id": "zHRo9qFE3uST"
      },
      "source": [
        "### **NORMAL / Gaussian**\n"
      ]
    },
    {
      "cell_type": "code",
      "metadata": {
        "colab": {
          "base_uri": "https://localhost:8080/",
          "height": 282
        },
        "id": "qOK0tvvg3mKW",
        "outputId": "b815b2b4-03eb-49a8-bdea-8f5c7436002f"
      },
      "source": [
        "from scipy.stats import norm\n",
        "import matplotlib.pyplot as plt\n",
        "\n",
        "x = np.arange(-3, 3, 0.001)\n",
        "plt.plot(x, norm.pdf(x))"
      ],
      "execution_count": null,
      "outputs": [
        {
          "output_type": "execute_result",
          "data": {
            "text/plain": [
              "[<matplotlib.lines.Line2D at 0x7f9ad49d42b0>]"
            ]
          },
          "metadata": {
            "tags": []
          },
          "execution_count": 5
        },
        {
          "output_type": "display_data",
          "data": {
            "image/png": "[encoded data removed]",
            "text/plain": [
              "<Figure size 432x288 with 1 Axes>"
            ]
          },
          "metadata": {
            "tags": [],
            "needs_background": "light"
          }
        }
      ]
    },
    {
      "cell_type": "code",
      "metadata": {
        "colab": {
          "base_uri": "https://localhost:8080/",
          "height": 264
        },
        "id": "R7Nw0cXo4Cnz",
        "outputId": "d1fe25b2-5f49-441a-ea47-cdac2de96871"
      },
      "source": [
        "from scipy.stats import norm\n",
        "import matplotlib.pyplot as plt\n",
        "\n",
        "mu = 5.0\n",
        "sigma = 2.0\n",
        "values = np.random.normal(mu, sigma , 10000)\n",
        "plt.hist(values, 100)\n",
        "plt.show()"
      ],
      "execution_count": null,
      "outputs": [
        {
          "output_type": "display_data",
          "data": {
            "image/png": "[encoded data removed]",
            "text/plain": [
              "<Figure size 432x288 with 1 Axes>"
            ]
          },
          "metadata": {
            "tags": [],
            "needs_background": "light"
          }
        }
      ]
    },
    {
      "cell_type": "markdown",
      "metadata": {
        "id": "9NwvDItV5TuE"
      },
      "source": [
        "### **Exponential PDF/ \"Power Law\"**"
      ]
    },
    {
      "cell_type": "code",
      "metadata": {
        "colab": {
          "base_uri": "https://localhost:8080/",
          "height": 282
        },
        "id": "1JlKsoOA5LLJ",
        "outputId": "c4eb2ac0-9431-4364-8209-79624c9df829"
      },
      "source": [
        "from scipy.stats import expon\n",
        "import matplotlib.pyplot as plt\n",
        "\n",
        "x = np.arange(0, 10, 0.001)\n",
        "plt.plot(x, expon.pdf(x))"
      ],
      "execution_count": null,
      "outputs": [
        {
          "output_type": "execute_result",
          "data": {
            "text/plain": [
              "[<matplotlib.lines.Line2D at 0x7f9ad47440f0>]"
            ]
          },
          "metadata": {
            "tags": []
          },
          "execution_count": 11
        },
        {
          "output_type": "display_data",
          "data": {
            "image/png": "[encoded data removed]",
            "text/plain": [
              "<Figure size 432x288 with 1 Axes>"
            ]
          },
          "metadata": {
            "tags": [],
            "needs_background": "light"
          }
        }
      ]
    },
    {
      "cell_type": "markdown",
      "metadata": {
        "id": "_ZiSZL7K6gSp"
      },
      "source": [
        "### **Binomial Probability Mass Function**\n",
        "\n"
      ]
    },
    {
      "cell_type": "code",
      "metadata": {
        "colab": {
          "base_uri": "https://localhost:8080/",
          "height": 282
        },
        "id": "n_4DAFcS5bGi",
        "outputId": "3bfad1fc-0e24-4d4b-ba9a-5f34ed80cf72"
      },
      "source": [
        "from scipy.stats import binom\n",
        "import matplotlib.pyplot as plt\n",
        "\n",
        "n, p = 10, 0.5\n",
        "x = np.arange(0, 10, 0.001)\n",
        "plt.plot(x, binom.pmf(x, n ,p))"
      ],
      "execution_count": null,
      "outputs": [
        {
          "output_type": "execute_result",
          "data": {
            "text/plain": [
              "[<matplotlib.lines.Line2D at 0x7f9accca0320>]"
            ]
          },
          "metadata": {
            "tags": []
          },
          "execution_count": 15
        },
        {
          "output_type": "display_data",
          "data": {
            "image/png": "[encoded data removed]",
            "text/plain": [
              "<Figure size 432x288 with 1 Axes>"
            ]
          },
          "metadata": {
            "tags": [],
            "needs_background": "light"
          }
        }
      ]
    },
    {
      "cell_type": "markdown",
      "metadata": {
        "id": "oL595dQA8FuU"
      },
      "source": [
        "## Poisson Probability Mass Function"
      ]
    },
    {
      "cell_type": "code",
      "metadata": {
        "colab": {
          "base_uri": "https://localhost:8080/",
          "height": 282
        },
        "id": "YlqjYRVZ7qQ5",
        "outputId": "88d32bab-d92c-48b3-c6e7-f4bddc178dbb"
      },
      "source": [
        "from scipy.stats import poisson\n",
        "import matplotlib.pyplot as plt\n",
        "\n",
        "mu = 500\n",
        "x = np.arange(300,600, 0.5)\n",
        "plt.plot(x, poisson.pmf(x,mu))"
      ],
      "execution_count": null,
      "outputs": [
        {
          "output_type": "execute_result",
          "data": {
            "text/plain": [
              "[<matplotlib.lines.Line2D at 0x7f9accc22860>]"
            ]
          },
          "metadata": {
            "tags": []
          },
          "execution_count": 16
        },
        {
          "output_type": "display_data",
          "data": {
            "image/png": "[encoded data removed]",
            "text/plain": [
              "<Figure size 432x288 with 1 Axes>"
            ]
          },
          "metadata": {
            "tags": [],
            "needs_background": "light"
          }
        }
      ]
    },
    {
      "cell_type": "markdown",
      "metadata": {
        "id": "K35BGDoyIdhN"
      },
      "source": [
        "### PERCENTILES"
      ]
    },
    {
      "cell_type": "code",
      "metadata": {
        "id": "txpRe-mH8hiz",
        "colab": {
          "base_uri": "https://localhost:8080/",
          "height": 264
        },
        "outputId": "2ba30d9d-267c-4ed2-d77a-b38fc377ccac"
      },
      "source": [
        "import numpy as np\n",
        "import matplotlib.pyplot as plt\n",
        "\n",
        "vals = np.random.normal(0, 0.5, 10000)\n",
        "\n",
        "plt.hist(vals, 50)\n",
        "plt.show()"
      ],
      "execution_count": null,
      "outputs": [
        {
          "output_type": "display_data",
          "data": {
            "image/png": "[encoded data removed]",
            "text/plain": [
              "<Figure size 432x288 with 1 Axes>"
            ]
          },
          "metadata": {
            "tags": [],
            "needs_background": "light"
          }
        }
      ]
    },
    {
      "cell_type": "code",
      "metadata": {
        "colab": {
          "base_uri": "https://localhost:8080/"
        },
        "id": "5Z4S3-6EIu4g",
        "outputId": "d9988de5-204d-4e18-ce2c-13455169b279"
      },
      "source": [
        "np.percentile(vals, 50)"
      ],
      "execution_count": null,
      "outputs": [
        {
          "output_type": "execute_result",
          "data": {
            "text/plain": [
              "-0.0020295916528851503"
            ]
          },
          "metadata": {
            "tags": []
          },
          "execution_count": 6
        }
      ]
    },
    {
      "cell_type": "code",
      "metadata": {
        "colab": {
          "base_uri": "https://localhost:8080/"
        },
        "id": "Ih3Zj6nHJNQj",
        "outputId": "91aff522-89e3-4d2c-cf74-f396d1ce5f9b"
      },
      "source": [
        "np.percentile(vals, 90)"
      ],
      "execution_count": null,
      "outputs": [
        {
          "output_type": "execute_result",
          "data": {
            "text/plain": [
              "0.6398550327923591"
            ]
          },
          "metadata": {
            "tags": []
          },
          "execution_count": 4
        }
      ]
    },
    {
      "cell_type": "code",
      "metadata": {
        "colab": {
          "base_uri": "https://localhost:8080/"
        },
        "id": "P-_HEv81JZFM",
        "outputId": "989bc44e-e94e-4bf9-f7fa-d34bb48bdc22"
      },
      "source": [
        "np.percentile(vals, 20)"
      ],
      "execution_count": null,
      "outputs": [
        {
          "output_type": "execute_result",
          "data": {
            "text/plain": [
              "-0.41671222059501806"
            ]
          },
          "metadata": {
            "tags": []
          },
          "execution_count": 5
        }
      ]
    },
    {
      "cell_type": "markdown",
      "metadata": {
        "id": "gBDC05kwaUjC"
      },
      "source": [
        "### MOMENTS: MEAN , VARIANCE, SKEW, KURTOSIS"
      ]
    },
    {
      "cell_type": "code",
      "metadata": {
        "id": "WE6SyzrPJbQG",
        "colab": {
          "base_uri": "https://localhost:8080/",
          "height": 264
        },
        "outputId": "1f69e364-185a-46f5-ae78-f29825569625"
      },
      "source": [
        "import numpy as np\n",
        "import matplotlib.pyplot as plt\n",
        "\n",
        "vals = np.random.normal(0, 0.5, 10000)\n",
        "\n",
        "plt.hist(vals, 50)\n",
        "plt.show()"
      ],
      "execution_count": null,
      "outputs": [
        {
          "output_type": "display_data",
          "data": {
            "image/png": "[encoded data removed]",
            "text/plain": [
              "<Figure size 432x288 with 1 Axes>"
            ]
          },
          "metadata": {
            "tags": [],
            "needs_background": "light"
          }
        }
      ]
    },
    {
      "cell_type": "code",
      "metadata": {
        "colab": {
          "base_uri": "https://localhost:8080/"
        },
        "id": "eS4bTOizbGbX",
        "outputId": "02ac3cd5-0ae6-41fa-aa2c-8b89c65a8b36"
      },
      "source": [
        "np.mean(vals)"
      ],
      "execution_count": null,
      "outputs": [
        {
          "output_type": "execute_result",
          "data": {
            "text/plain": [
              "0.005822201452037853"
            ]
          },
          "metadata": {
            "tags": []
          },
          "execution_count": 5
        }
      ]
    },
    {
      "cell_type": "code",
      "metadata": {
        "colab": {
          "base_uri": "https://localhost:8080/"
        },
        "id": "0qnLtPIYbPe8",
        "outputId": "59b5a080-45a4-43a1-9259-043c14f39ccc"
      },
      "source": [
        "np.var(vals)"
      ],
      "execution_count": null,
      "outputs": [
        {
          "output_type": "execute_result",
          "data": {
            "text/plain": [
              "0.24077652613595688"
            ]
          },
          "metadata": {
            "tags": []
          },
          "execution_count": 6
        }
      ]
    },
    {
      "cell_type": "code",
      "metadata": {
        "colab": {
          "base_uri": "https://localhost:8080/"
        },
        "id": "jXKbyQFKbToZ",
        "outputId": "bda0270e-3edd-48dc-8968-e558c110afc8"
      },
      "source": [
        "import scipy.stats as sp\n",
        "sp.skew(vals)"
      ],
      "execution_count": null,
      "outputs": [
        {
          "output_type": "execute_result",
          "data": {
            "text/plain": [
              "0.002805399557843865"
            ]
          },
          "metadata": {
            "tags": []
          },
          "execution_count": 7
        }
      ]
    },
    {
      "cell_type": "code",
      "metadata": {
        "colab": {
          "base_uri": "https://localhost:8080/"
        },
        "id": "2bdvNKxabhVh",
        "outputId": "7b9d1dd3-c1d8-430e-8f2b-9cb8603a9b99"
      },
      "source": [
        "sp.kurtosis(vals)"
      ],
      "execution_count": null,
      "outputs": [
        {
          "output_type": "execute_result",
          "data": {
            "text/plain": [
              "-0.012978339936478456"
            ]
          },
          "metadata": {
            "tags": []
          },
          "execution_count": 8
        }
      ]
    }
  ]
}